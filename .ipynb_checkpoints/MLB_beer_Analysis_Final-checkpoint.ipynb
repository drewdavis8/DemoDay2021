{
 "cells": [
  {
   "cell_type": "code",
   "execution_count": 1,
   "metadata": {},
   "outputs": [],
   "source": [
    "# Dependencies and Setup\n",
    "import matplotlib.pyplot as plt\n",
    "import pandas as pd\n",
    "import scipy.stats as st\n",
    "import numpy as np\n",
    "from scipy.stats import linregress\n",
    "from us import states\n",
    "from census import Census\n",
    "# Import Census key\n",
    "from config import census_key\n",
    "import seaborn as sns\n",
    "\n",
    "# Census API Key\n",
    "c = Census(census_key, year=2018)"
   ]
  },
  {
   "cell_type": "markdown",
   "metadata": {},
   "source": [
    "#### Uploading MLB Beer Price data"
   ]
  },
  {
   "cell_type": "code",
   "execution_count": 2,
   "metadata": {},
   "outputs": [
    {
     "name": "stdout",
     "output_type": "stream",
     "text": [
      "<class 'pandas.core.frame.DataFrame'>\n",
      "Int64Index: 29 entries, 0 to 29\n",
      "Data columns (total 13 columns):\n",
      " #   Column                        Non-Null Count  Dtype  \n",
      "---  ------                        --------------  -----  \n",
      " 0   Year                          29 non-null     int64  \n",
      " 1   Team                          29 non-null     object \n",
      " 2   Nickname                      29 non-null     object \n",
      " 3   City                          29 non-null     object \n",
      " 4   State                         29 non-null     object \n",
      " 5   State Abbreviation            29 non-null     object \n",
      " 6   Price                         29 non-null     float64\n",
      " 7   Size                          29 non-null     int64  \n",
      " 8   Price per Ounce               29 non-null     float64\n",
      " 9   Wins                          29 non-null     int64  \n",
      " 10  Losses                        29 non-null     int64  \n",
      " 11  Average # of drinks per game  29 non-null     float64\n",
      " 12  Average Spent per Game (USD)  29 non-null     object \n",
      "dtypes: float64(3), int64(4), object(6)\n",
      "memory usage: 3.2+ KB\n"
     ]
    }
   ],
   "source": [
    "# checking the data\n",
    "# read in cvs with cleaner MLB data\n",
    "mlb_Stateadded = \"MLB_Data_Stateadded.csv\"\n",
    "\n",
    "# Read the MLB data\n",
    "cleaner_MLB_df = pd.read_csv(mlb_Stateadded)\n",
    "cleaner_MLB_df = cleaner_MLB_df[cleaner_MLB_df['City']!='Toronto'] #dropping toronto as there wont be any income data\n",
    "cleaner_MLB_df.info()"
   ]
  },
  {
   "cell_type": "code",
   "execution_count": 3,
   "metadata": {},
   "outputs": [],
   "source": [
    "# # Cleaning data \n",
    "# # Filter for 2018 only\n",
    "# mlb_beer_price_df = mlb_beer_price_df[mlb_beer_price_df['Year']==2018]\n",
    "\n",
    "# # drop all instances of 'MLB Average' - it contains a Nan value\n",
    "# clean_mlb_beer_df = mlb_beer_price_df.dropna()\n",
    "# # clean_mlb_beer_df.head()"
   ]
  },
  {
   "cell_type": "markdown",
   "metadata": {},
   "source": [
    "#### Uploading Zip to City/State csv"
   ]
  },
  {
   "cell_type": "code",
   "execution_count": 4,
   "metadata": {},
   "outputs": [
    {
     "data": {
      "text/html": [
       "<div>\n",
       "<style scoped>\n",
       "    .dataframe tbody tr th:only-of-type {\n",
       "        vertical-align: middle;\n",
       "    }\n",
       "\n",
       "    .dataframe tbody tr th {\n",
       "        vertical-align: top;\n",
       "    }\n",
       "\n",
       "    .dataframe thead th {\n",
       "        text-align: right;\n",
       "    }\n",
       "</style>\n",
       "<table border=\"1\" class=\"dataframe\">\n",
       "  <thead>\n",
       "    <tr style=\"text-align: right;\">\n",
       "      <th></th>\n",
       "      <th>Zip Code</th>\n",
       "      <th>primary_city</th>\n",
       "      <th>state</th>\n",
       "      <th>country</th>\n",
       "      <th>county</th>\n",
       "      <th>lat</th>\n",
       "      <th>lng</th>\n",
       "    </tr>\n",
       "  </thead>\n",
       "  <tbody>\n",
       "    <tr>\n",
       "      <th>0</th>\n",
       "      <td>00501</td>\n",
       "      <td>Holtsville</td>\n",
       "      <td>NY</td>\n",
       "      <td>US</td>\n",
       "      <td>NaN</td>\n",
       "      <td>NaN</td>\n",
       "      <td>NaN</td>\n",
       "    </tr>\n",
       "    <tr>\n",
       "      <th>1</th>\n",
       "      <td>00544</td>\n",
       "      <td>Holtsville</td>\n",
       "      <td>NY</td>\n",
       "      <td>US</td>\n",
       "      <td>NaN</td>\n",
       "      <td>NaN</td>\n",
       "      <td>NaN</td>\n",
       "    </tr>\n",
       "    <tr>\n",
       "      <th>2</th>\n",
       "      <td>00601</td>\n",
       "      <td>Adjuntas</td>\n",
       "      <td>PR</td>\n",
       "      <td>US</td>\n",
       "      <td>Adjuntas</td>\n",
       "      <td>18.18004</td>\n",
       "      <td>-66.75218</td>\n",
       "    </tr>\n",
       "    <tr>\n",
       "      <th>3</th>\n",
       "      <td>00602</td>\n",
       "      <td>Aguada</td>\n",
       "      <td>PR</td>\n",
       "      <td>US</td>\n",
       "      <td>Aguada</td>\n",
       "      <td>18.36073</td>\n",
       "      <td>-67.17517</td>\n",
       "    </tr>\n",
       "    <tr>\n",
       "      <th>4</th>\n",
       "      <td>00603</td>\n",
       "      <td>Aguadilla</td>\n",
       "      <td>PR</td>\n",
       "      <td>US</td>\n",
       "      <td>Aguadilla</td>\n",
       "      <td>18.45439</td>\n",
       "      <td>-67.12202</td>\n",
       "    </tr>\n",
       "  </tbody>\n",
       "</table>\n",
       "</div>"
      ],
      "text/plain": [
       "  Zip Code primary_city state country     county       lat        lng\n",
       "0    00501   Holtsville    NY      US        NaN       NaN        NaN\n",
       "1    00544   Holtsville    NY      US        NaN       NaN        NaN\n",
       "2    00601     Adjuntas    PR      US   Adjuntas  18.18004  -66.75218\n",
       "3    00602       Aguada    PR      US     Aguada  18.36073  -67.17517\n",
       "4    00603    Aguadilla    PR      US  Aguadilla  18.45439  -67.12202"
      ]
     },
     "execution_count": 4,
     "metadata": {},
     "output_type": "execute_result"
    }
   ],
   "source": [
    "# path data files\n",
    "zip_city_state = \"Zip-Codes-to-City-County-State-2020.csv\"\n",
    "\n",
    "# # Read the zipcode data\n",
    "zip_city_state_df = pd.read_csv(zip_city_state,dtype=str)\n",
    "zip_city_state_df = zip_city_state_df.rename(columns={'zip': 'Zip Code'})\n",
    "zip_city_state_df.head()"
   ]
  },
  {
   "cell_type": "markdown",
   "metadata": {},
   "source": [
    "#### Uploading Census data"
   ]
  },
  {
   "cell_type": "code",
   "execution_count": 5,
   "metadata": {},
   "outputs": [
    {
     "data": {
      "text/html": [
       "<div>\n",
       "<style scoped>\n",
       "    .dataframe tbody tr th:only-of-type {\n",
       "        vertical-align: middle;\n",
       "    }\n",
       "\n",
       "    .dataframe tbody tr th {\n",
       "        vertical-align: top;\n",
       "    }\n",
       "\n",
       "    .dataframe thead th {\n",
       "        text-align: right;\n",
       "    }\n",
       "</style>\n",
       "<table border=\"1\" class=\"dataframe\">\n",
       "  <thead>\n",
       "    <tr style=\"text-align: right;\">\n",
       "      <th></th>\n",
       "      <th>Population</th>\n",
       "      <th>Median Income</th>\n",
       "      <th>state</th>\n",
       "      <th>Zip Code</th>\n",
       "    </tr>\n",
       "  </thead>\n",
       "  <tbody>\n",
       "    <tr>\n",
       "      <th>0</th>\n",
       "      <td>17242.0</td>\n",
       "      <td>10346.0</td>\n",
       "      <td>72</td>\n",
       "      <td>00601</td>\n",
       "    </tr>\n",
       "    <tr>\n",
       "      <th>1</th>\n",
       "      <td>38442.0</td>\n",
       "      <td>10407.0</td>\n",
       "      <td>72</td>\n",
       "      <td>00602</td>\n",
       "    </tr>\n",
       "    <tr>\n",
       "      <th>2</th>\n",
       "      <td>48814.0</td>\n",
       "      <td>12109.0</td>\n",
       "      <td>72</td>\n",
       "      <td>00603</td>\n",
       "    </tr>\n",
       "    <tr>\n",
       "      <th>3</th>\n",
       "      <td>6437.0</td>\n",
       "      <td>8899.0</td>\n",
       "      <td>72</td>\n",
       "      <td>00606</td>\n",
       "    </tr>\n",
       "    <tr>\n",
       "      <th>4</th>\n",
       "      <td>27073.0</td>\n",
       "      <td>12391.0</td>\n",
       "      <td>72</td>\n",
       "      <td>00610</td>\n",
       "    </tr>\n",
       "  </tbody>\n",
       "</table>\n",
       "</div>"
      ],
      "text/plain": [
       "   Population  Median Income state Zip Code\n",
       "0     17242.0        10346.0    72    00601\n",
       "1     38442.0        10407.0    72    00602\n",
       "2     48814.0        12109.0    72    00603\n",
       "3      6437.0         8899.0    72    00606\n",
       "4     27073.0        12391.0    72    00610"
      ]
     },
     "execution_count": 5,
     "metadata": {},
     "output_type": "execute_result"
    }
   ],
   "source": [
    "# US Median Household Income by Zip Code\n",
    "# Request to Census.gov\n",
    "census_data_zip = c.acs5.get((\"B01003_001E\", \"B21004_001E\"), {\"for\": \"zip code tabulation area:*\"})\n",
    "\n",
    "# Convert to DataFrame\n",
    "census_pd_zip = pd.DataFrame(census_data_zip)\n",
    "\n",
    "# Column Reordering\n",
    "census_pd_zip = census_pd_zip.rename(columns={\"B01003_001E\": \"Population\", \"B21004_001E\": \"Median Income\", \"zip code tabulation area\": \"Zip Code\"})\n",
    "\n",
    "census_pd_zip.head()"
   ]
  },
  {
   "cell_type": "markdown",
   "metadata": {},
   "source": [
    "#### Merge (Left Join) Census data with Zip to state city "
   ]
  },
  {
   "cell_type": "code",
   "execution_count": 6,
   "metadata": {},
   "outputs": [],
   "source": [
    "# left merge Census data with zip/city data\n",
    "result = pd.merge(census_pd_zip, zip_city_state_df, on=\"Zip Code\")\n",
    "\n",
    "# clean up results for what's needed. \n",
    "clean_cencus_df = result[['primary_city','state_y','Median Income','Population']].dropna()\n",
    "# clean_cencus_df.head()"
   ]
  },
  {
   "cell_type": "code",
   "execution_count": 7,
   "metadata": {},
   "outputs": [
    {
     "data": {
      "text/html": [
       "<div>\n",
       "<style scoped>\n",
       "    .dataframe tbody tr th:only-of-type {\n",
       "        vertical-align: middle;\n",
       "    }\n",
       "\n",
       "    .dataframe tbody tr th {\n",
       "        vertical-align: top;\n",
       "    }\n",
       "\n",
       "    .dataframe thead th {\n",
       "        text-align: right;\n",
       "    }\n",
       "</style>\n",
       "<table border=\"1\" class=\"dataframe\">\n",
       "  <thead>\n",
       "    <tr style=\"text-align: right;\">\n",
       "      <th></th>\n",
       "      <th>primary_city</th>\n",
       "      <th>state_y</th>\n",
       "      <th>Median Income</th>\n",
       "      <th>Population</th>\n",
       "    </tr>\n",
       "  </thead>\n",
       "  <tbody>\n",
       "    <tr>\n",
       "      <th>0</th>\n",
       "      <td>Adjuntas</td>\n",
       "      <td>PR</td>\n",
       "      <td>10346.0</td>\n",
       "      <td>17242.0</td>\n",
       "    </tr>\n",
       "    <tr>\n",
       "      <th>1</th>\n",
       "      <td>Aguada</td>\n",
       "      <td>PR</td>\n",
       "      <td>10407.0</td>\n",
       "      <td>38442.0</td>\n",
       "    </tr>\n",
       "    <tr>\n",
       "      <th>2</th>\n",
       "      <td>Aguadilla</td>\n",
       "      <td>PR</td>\n",
       "      <td>12109.0</td>\n",
       "      <td>48814.0</td>\n",
       "    </tr>\n",
       "    <tr>\n",
       "      <th>3</th>\n",
       "      <td>Maricao</td>\n",
       "      <td>PR</td>\n",
       "      <td>8899.0</td>\n",
       "      <td>6437.0</td>\n",
       "    </tr>\n",
       "    <tr>\n",
       "      <th>4</th>\n",
       "      <td>Anasco</td>\n",
       "      <td>PR</td>\n",
       "      <td>12391.0</td>\n",
       "      <td>27073.0</td>\n",
       "    </tr>\n",
       "  </tbody>\n",
       "</table>\n",
       "</div>"
      ],
      "text/plain": [
       "  primary_city state_y  Median Income  Population\n",
       "0     Adjuntas      PR        10346.0     17242.0\n",
       "1       Aguada      PR        10407.0     38442.0\n",
       "2    Aguadilla      PR        12109.0     48814.0\n",
       "3      Maricao      PR         8899.0      6437.0\n",
       "4       Anasco      PR        12391.0     27073.0"
      ]
     },
     "execution_count": 7,
     "metadata": {},
     "output_type": "execute_result"
    }
   ],
   "source": [
    "# To get the cleanest data, I need to drop all instances of Median income where the value is '-666666666'\n",
    "# According to the census documentary '-666666666' indicates that either no sample observations or too few sample observations were available.\n",
    "clean_cencus_df = clean_cencus_df[clean_cencus_df['Median Income']>0]\n",
    "clean_cencus_df.head()"
   ]
  },
  {
   "cell_type": "code",
   "execution_count": 8,
   "metadata": {},
   "outputs": [
    {
     "data": {
      "text/html": [
       "<div>\n",
       "<style scoped>\n",
       "    .dataframe tbody tr th:only-of-type {\n",
       "        vertical-align: middle;\n",
       "    }\n",
       "\n",
       "    .dataframe tbody tr th {\n",
       "        vertical-align: top;\n",
       "    }\n",
       "\n",
       "    .dataframe thead th {\n",
       "        text-align: right;\n",
       "    }\n",
       "</style>\n",
       "<table border=\"1\" class=\"dataframe\">\n",
       "  <thead>\n",
       "    <tr style=\"text-align: right;\">\n",
       "      <th></th>\n",
       "      <th>state_y</th>\n",
       "      <th>primary_city</th>\n",
       "      <th>Median Income</th>\n",
       "    </tr>\n",
       "  </thead>\n",
       "  <tbody>\n",
       "    <tr>\n",
       "      <th>0</th>\n",
       "      <td>AK</td>\n",
       "      <td>Adak</td>\n",
       "      <td>27222.0</td>\n",
       "    </tr>\n",
       "    <tr>\n",
       "      <th>1</th>\n",
       "      <td>AK</td>\n",
       "      <td>Akiachak</td>\n",
       "      <td>11979.0</td>\n",
       "    </tr>\n",
       "  </tbody>\n",
       "</table>\n",
       "</div>"
      ],
      "text/plain": [
       "  state_y primary_city  Median Income\n",
       "0      AK         Adak        27222.0\n",
       "1      AK     Akiachak        11979.0"
      ]
     },
     "execution_count": 8,
     "metadata": {},
     "output_type": "execute_result"
    }
   ],
   "source": [
    "# group median income by city and state \n",
    "income_by_CityState = clean_cencus_df.groupby(['state_y','primary_city']).mean()[['Median Income']].reset_index()\n",
    "income_by_CityState.head(2)"
   ]
  },
  {
   "cell_type": "code",
   "execution_count": 9,
   "metadata": {},
   "outputs": [
    {
     "data": {
      "text/html": [
       "<div>\n",
       "<style scoped>\n",
       "    .dataframe tbody tr th:only-of-type {\n",
       "        vertical-align: middle;\n",
       "    }\n",
       "\n",
       "    .dataframe tbody tr th {\n",
       "        vertical-align: top;\n",
       "    }\n",
       "\n",
       "    .dataframe thead th {\n",
       "        text-align: right;\n",
       "    }\n",
       "</style>\n",
       "<table border=\"1\" class=\"dataframe\">\n",
       "  <thead>\n",
       "    <tr style=\"text-align: right;\">\n",
       "      <th></th>\n",
       "      <th>state_y</th>\n",
       "      <th>primary_city</th>\n",
       "      <th>Population</th>\n",
       "    </tr>\n",
       "  </thead>\n",
       "  <tbody>\n",
       "    <tr>\n",
       "      <th>0</th>\n",
       "      <td>AK</td>\n",
       "      <td>Adak</td>\n",
       "      <td>203.0</td>\n",
       "    </tr>\n",
       "    <tr>\n",
       "      <th>1</th>\n",
       "      <td>AK</td>\n",
       "      <td>Akiachak</td>\n",
       "      <td>567.0</td>\n",
       "    </tr>\n",
       "  </tbody>\n",
       "</table>\n",
       "</div>"
      ],
      "text/plain": [
       "  state_y primary_city  Population\n",
       "0      AK         Adak       203.0\n",
       "1      AK     Akiachak       567.0"
      ]
     },
     "execution_count": 9,
     "metadata": {},
     "output_type": "execute_result"
    }
   ],
   "source": [
    "# group population by city and state \n",
    "population_by_CityState = clean_cencus_df.groupby(['state_y','primary_city']).sum()[['Population']].reset_index()\n",
    "# population_by_CityState[population_by_CityState['primary_city'] =='Phoenix' ] # validating data (data quality control) \n",
    "population_by_CityState.head(2)"
   ]
  },
  {
   "cell_type": "code",
   "execution_count": 10,
   "metadata": {},
   "outputs": [
    {
     "data": {
      "text/html": [
       "<div>\n",
       "<style scoped>\n",
       "    .dataframe tbody tr th:only-of-type {\n",
       "        vertical-align: middle;\n",
       "    }\n",
       "\n",
       "    .dataframe tbody tr th {\n",
       "        vertical-align: top;\n",
       "    }\n",
       "\n",
       "    .dataframe thead th {\n",
       "        text-align: right;\n",
       "    }\n",
       "</style>\n",
       "<table border=\"1\" class=\"dataframe\">\n",
       "  <thead>\n",
       "    <tr style=\"text-align: right;\">\n",
       "      <th></th>\n",
       "      <th>State Abbreviation</th>\n",
       "      <th>City</th>\n",
       "      <th>Median Income</th>\n",
       "      <th>Population</th>\n",
       "    </tr>\n",
       "  </thead>\n",
       "  <tbody>\n",
       "    <tr>\n",
       "      <th>0</th>\n",
       "      <td>AK</td>\n",
       "      <td>Adak</td>\n",
       "      <td>27222.0</td>\n",
       "      <td>203.0</td>\n",
       "    </tr>\n",
       "    <tr>\n",
       "      <th>1</th>\n",
       "      <td>AK</td>\n",
       "      <td>Akiachak</td>\n",
       "      <td>11979.0</td>\n",
       "      <td>567.0</td>\n",
       "    </tr>\n",
       "    <tr>\n",
       "      <th>2</th>\n",
       "      <td>AK</td>\n",
       "      <td>Akiak</td>\n",
       "      <td>14931.0</td>\n",
       "      <td>416.0</td>\n",
       "    </tr>\n",
       "  </tbody>\n",
       "</table>\n",
       "</div>"
      ],
      "text/plain": [
       "  State Abbreviation      City  Median Income  Population\n",
       "0                 AK      Adak        27222.0       203.0\n",
       "1                 AK  Akiachak        11979.0       567.0\n",
       "2                 AK     Akiak        14931.0       416.0"
      ]
     },
     "execution_count": 10,
     "metadata": {},
     "output_type": "execute_result"
    }
   ],
   "source": [
    "# Merge together the Census data - grouped by city state for Median Income and Population - into one working data frame. \n",
    "CityState_data = pd.merge(income_by_CityState,population_by_CityState,how='left', on = ['primary_city','state_y'])\n",
    "CityState_data = CityState_data[['state_y','primary_city','Median Income','Population']]\n",
    "\n",
    "# rename the new table - to make it easier to merge on to our original MLB data set. \n",
    "CityState_data = CityState_data.rename(columns={'primary_city': 'City', 'state_y': 'State Abbreviation'})\n",
    "# CityState_data[CityState_data['primary_city'] == 'Phoenix'] # validating data (data quality control) \n",
    "CityState_data.head(3)"
   ]
  },
  {
   "cell_type": "markdown",
   "metadata": {},
   "source": [
    "#### Merge MLB data with Income Data"
   ]
  },
  {
   "cell_type": "code",
   "execution_count": 11,
   "metadata": {},
   "outputs": [],
   "source": [
    "# Merge all data for final output - for anlaysis\n",
    "final_result = pd.merge(cleaner_MLB_df, CityState_data,how='left', on=['City','State Abbreviation']) # merge census and MLB data together\n",
    "# final_result #validate\n",
    "\n",
    "# Create column win/loss ratio and add data based on 2018 win/loss ratio for each MLB team\n",
    "final_result['Win/Loss Ratio'] = final_result['Wins']/final_result['Losses']"
   ]
  },
  {
   "cell_type": "code",
   "execution_count": 12,
   "metadata": {},
   "outputs": [
    {
     "name": "stdout",
     "output_type": "stream",
     "text": [
      "<class 'pandas.core.frame.DataFrame'>\n",
      "Int64Index: 29 entries, 0 to 28\n",
      "Data columns (total 16 columns):\n",
      " #   Column                        Non-Null Count  Dtype  \n",
      "---  ------                        --------------  -----  \n",
      " 0   Year                          29 non-null     int64  \n",
      " 1   Team                          29 non-null     object \n",
      " 2   Nickname                      29 non-null     object \n",
      " 3   City                          29 non-null     object \n",
      " 4   State                         29 non-null     object \n",
      " 5   State Abbreviation            29 non-null     object \n",
      " 6   Price                         29 non-null     float64\n",
      " 7   Size                          29 non-null     int64  \n",
      " 8   Price per Ounce               29 non-null     float64\n",
      " 9   Wins                          29 non-null     int64  \n",
      " 10  Losses                        29 non-null     int64  \n",
      " 11  Average # of drinks per game  29 non-null     float64\n",
      " 12  Average Spent per Game (USD)  29 non-null     object \n",
      " 13  Median Income                 29 non-null     float64\n",
      " 14  Population                    29 non-null     float64\n",
      " 15  Win/Loss Ratio                29 non-null     float64\n",
      "dtypes: float64(6), int64(4), object(6)\n",
      "memory usage: 3.9+ KB\n"
     ]
    }
   ],
   "source": [
    "# For easier visibility of charts, divide the large float numbers by a constant (10,000)\n",
    "final_result['Population'] = final_result['Population']/10000\n",
    "\n",
    "final_result.info()"
   ]
  },
  {
   "cell_type": "markdown",
   "metadata": {},
   "source": [
    "#### Analysis - Income by Price per beer correlation"
   ]
  },
  {
   "cell_type": "markdown",
   "metadata": {},
   "source": [
    "Create a scatter plot, add a regression line and calculate r-squared value. \n",
    "\n",
    "--------------------------\n",
    "But before that, lets see a visual representation of the data we'll be plotting. "
   ]
  },
  {
   "cell_type": "code",
   "execution_count": 13,
   "metadata": {},
   "outputs": [],
   "source": [
    "# a quick histogram of the data being analyzed .apply(lambda x: \"${:.2f}\".format((x/1)))\n",
    "hist_ppo = final_result[['Price per Ounce']]\n",
    "hist_avg_drinks_game = final_result['Average # of drinks per game']\n",
    "hist_med_income = final_result['Median Income']\n",
    "hist_population = final_result['Population'] \n",
    "hist_record = final_result['Win/Loss Ratio']\n",
    "# plt.boxplot(x='Price per Ounce' ,data=hist_ppo)"
   ]
  },
  {
   "cell_type": "code",
   "execution_count": 14,
   "metadata": {},
   "outputs": [
    {
     "data": {
      "image/png": "[encoded data removed]",
      "text/plain": [
       "<Figure size 792x504 with 4 Axes>"
      ]
     },
     "metadata": {
      "needs_background": "light"
     },
     "output_type": "display_data"
    }
   ],
   "source": [
    "# plotting box and whiskper plot\n",
    "fig, axes = plt.subplots(2, 2,sharey=False,squeeze=False,figsize=(11,7))\n",
    "\n",
    "ax = sns.boxplot(x='Price per Ounce' ,data=final_result,\n",
    "    ax=axes[0, 0],width=0.4,orient='h')\n",
    "ax = sns.boxplot(x='Average # of drinks per game', data=final_result,\n",
    "    ax=axes[0, 1],width=0.4,orient='h')\n",
    "ax = sns.boxplot(x='Median Income' ,data=final_result,\n",
    "    ax=axes[1, 0],width=0.4,orient='h')\n",
    "ax = sns.boxplot(x='Win/Loss Ratio' , data=final_result,\n",
    "    ax=axes[1, 1],width=0.4,orient='h')"
   ]
  },
  {
   "cell_type": "markdown",
   "metadata": {},
   "source": [
    "The 4 plots above show the distrution of each conresponding data points. The 'Price-per-ounce' and the 'Median Income' plots both appear to shows the least amount of variance around the mean. Although they both show some outliers, how densed the plot looks gives us a sense of consistency. One of our initial questions IS how median Household income affects the price of beer at a city where there is a MLB game/Stadium. It would make more sense to do a scatter plot with 'Price-per-ounce' and the 'Median Income'. This should make predictions more dependable. \n",
    "\n",
    "The 'Win/Loss Ratio' and the 'Average # of Drinks per game' plots, in a sense are both similar as well. They vary quite a bit, as evident by the larger width of the box plot. preditions based on these 2 data point might be a little less dependable. "
   ]
  },
  {
   "cell_type": "markdown",
   "metadata": {},
   "source": [
    "#### Findings"
   ]
  },
  {
   "cell_type": "code",
   "execution_count": 15,
   "metadata": {},
   "outputs": [
    {
     "name": "stdout",
     "output_type": "stream",
     "text": [
      "The r-square value is: 0.27351944841525855\n"
     ]
    },
    {
     "data": {
      "image/png": "[encoded data removed]",
      "text/plain": [
       "<Figure size 720x432 with 1 Axes>"
      ]
     },
     "metadata": {
      "needs_background": "light"
     },
     "output_type": "display_data"
    }
   ],
   "source": [
    "# Testing correlation between income and price of beer per oz\n",
    "\n",
    "ppo_income = final_result[['Median Income','Price per Ounce','Population']]\n",
    "\n",
    "data_regress = linregress(ppo_income.iloc[:,0],ppo_income.iloc[:,1])\n",
    "\n",
    "# unpack the regression \n",
    "(slope, intercept, rvalue, pvalue, stderr) = data_regress\n",
    "\n",
    "# using the regression formula (y = mx + b) pass the unpacked values into a variable\n",
    "regression_value = ppo_income.iloc[:,0]*slope + intercept\n",
    "equation = \"y = \" + str(round(slope,2)) + \"x + \" + str(round(intercept,2))\n",
    "# print(equation)\n",
    "\n",
    "# format axis\n",
    "# ppo_income['Median Income'] = ppo_income.apply(lambda x: \"${:,.2f}\".format(x['Median Income']), axis=1)\n",
    "\n",
    "# scatter plot\n",
    "fig, ax = plt.subplots(figsize=(10, 6))\n",
    "ax.scatter(ppo_income['Median Income'],ppo_income['Price per Ounce'],s=ppo_income['Population'],edgecolors='b')\n",
    "plt.plot(ppo_income.iloc[:,0],regression_value,color='green')\n",
    "plt.annotate(equation,(20000,0.1),fontsize=15,color=\"red\")\n",
    "\n",
    "# labels for plot\n",
    "plt.title(\"Beer prices vs Median household income for each city\")\n",
    "plt.xlabel(\"Median household Income ($)\")\n",
    "plt.ylabel(\"Beer price/oz ($)\")\n",
    "plt.ylim(0,1)\n",
    "print(f\"The r-square value is: {rvalue**2}\")\n",
    "plt.show()"
   ]
  },
  {
   "cell_type": "markdown",
   "metadata": {},
   "source": [
    "There appears to be a positive correlation between the median income house hold (city) and the price of beer (per oz) at a MLB game. R-squared value helps us understand that the median household income for a city where a stadium is located can explain about 27% of the difference in price for each beer. Although 27% is not too significant, we are confident in our data's distrubtion to accept the positive correlation. This helps answer or first question, and we do not reject our Null hypothesis. Which is, median income of a city's household affects how much, per ounce, a beer cost at a baseball game.  \n",
    "\n",
    "There are other factors that, for the interest of time and the absence of extra data, cannot be used support the remaining 73% of our model. Some of these factors may be logistical in nature and how close breweries are to the location.  "
   ]
  },
  {
   "cell_type": "markdown",
   "metadata": {},
   "source": [
    "#### Analysis - Team's Record vs Beer consumption rate"
   ]
  },
  {
   "cell_type": "markdown",
   "metadata": {},
   "source": [
    "Create a scatter plot, add a regression line and calculate r-squared value."
   ]
  },
  {
   "cell_type": "code",
   "execution_count": 16,
   "metadata": {},
   "outputs": [
    {
     "name": "stdout",
     "output_type": "stream",
     "text": [
      "The r-square value is: 0.06923949811410202\n"
     ]
    },
    {
     "data": {
      "image/png": "[encoded data removed]",
      "text/plain": [
       "<Figure size 720x432 with 1 Axes>"
      ]
     },
     "metadata": {
      "needs_background": "light"
     },
     "output_type": "display_data"
    }
   ],
   "source": [
    "# Testing correlation between Win/Loss ratio and # of drinks per game\n",
    "record_beer = final_result[['Win/Loss Ratio','Average # of drinks per game']]\n",
    "\n",
    "# calculate linear regression\n",
    "data_regress = linregress(record_beer.iloc[:,0],record_beer.iloc[:,1])\n",
    "\n",
    "# unpack the regression \n",
    "(slope, intercept, rvalue, pvalue, stderr) = data_regress\n",
    "\n",
    "# using the regression formula (y = mx + b) pass the unpacked values into a variable\n",
    "regression_value = record_beer.iloc[:,0]*slope + intercept\n",
    "equation = \"y = \" + str(round(slope,2)) + \"x + \" + str(round(intercept,2))\n",
    "# print(equation)\n",
    "\n",
    "# scatter plot\n",
    "fig, ax = plt.subplots(figsize=(10, 6))\n",
    "ax.scatter(record_beer['Win/Loss Ratio'],record_beer['Average # of drinks per game'],s=final_result['Wins'],edgecolors='b')\n",
    "\n",
    "plt.plot(record_beer.iloc[:,0],regression_value,color='green', linestyle='dashed')\n",
    "plt.annotate(equation,(0.4,1),fontsize=15,color=\"red\")\n",
    "# labels for plot\n",
    "plt.title(\"Team's record vs Beer consumption rate\")\n",
    "plt.ylabel(\"Avg number of drinks/game\")\n",
    "plt.xlabel(\"Win/Loss Ratio\")\n",
    "plt.ylim(0,6)\n",
    "print(f\"The r-square value is: {rvalue**2}\")"
   ]
  },
  {
   "cell_type": "markdown",
   "metadata": {},
   "source": [
    "Contrary to our first findings, the above plots a negative correlation between a teams record and the average number of drinks an individual may drink at a game. The slope indicates a negative correlation.  R-squared value helps us understand that a team's record for the 2018 year season only explain about 7% of the difference how much a person may drink at a game. We do not have enough confidence to R-value to accept our null-hypothesis. A team's record does not correlate with how much beer a person drinks at game.  \n",
    "\n",
    "There are other factors that, for the interest of time and the absence of extra data, that may have a better correlation. Some of these factors may be how much pre-gaming groups of people do before they show up to a game. Also, perhaps fans drink more during playoffs vs regular season; or maybe they drink more during pre-season games."
   ]
  },
  {
   "cell_type": "code",
   "execution_count": null,
   "metadata": {},
   "outputs": [],
   "source": []
  },
  {
   "cell_type": "code",
   "execution_count": null,
   "metadata": {},
   "outputs": [],
   "source": []
  }
 ],
 "metadata": {
  "kernelspec": {
   "display_name": "Python 3",
   "language": "python",
   "name": "python3"
  },
  "language_info": {
   "codemirror_mode": {
    "name": "ipython",
    "version": 3
   },
   "file_extension": ".py",
   "mimetype": "text/x-python",
   "name": "python",
   "nbconvert_exporter": "python",
   "pygments_lexer": "ipython3",
   "version": "3.8.5"
  }
 },
 "nbformat": 4,
 "nbformat_minor": 5
}
